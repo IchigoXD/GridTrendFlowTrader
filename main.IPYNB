{
 "cells": [
  {
   "cell_type": "code",
   "execution_count": 36,
   "metadata": {},
   "outputs": [],
   "source": [
    "import MetaTrader5 as mt5\n",
    "import pandas as pd"
   ]
  },
  {
   "cell_type": "code",
   "execution_count": 37,
   "metadata": {},
   "outputs": [
    {
     "data": {
      "text/plain": [
       "True"
      ]
     },
     "execution_count": 37,
     "metadata": {},
     "output_type": "execute_result"
    }
   ],
   "source": [
    "mt5.initialize()"
   ]
  },
  {
   "cell_type": "code",
   "execution_count": 38,
   "metadata": {},
   "outputs": [
    {
     "data": {
      "text/plain": [
       "(1, 'Success')"
      ]
     },
     "execution_count": 38,
     "metadata": {},
     "output_type": "execute_result"
    }
   ],
   "source": [
    "mt5.last_error()"
   ]
  },
  {
   "cell_type": "code",
   "execution_count": 39,
   "metadata": {},
   "outputs": [
    {
     "data": {
      "text/plain": [
       "True"
      ]
     },
     "execution_count": 39,
     "metadata": {},
     "output_type": "execute_result"
    }
   ],
   "source": [
    "login = 88548079\n",
    "password = '0fPnWs-b'\n",
    "server = 'MetaQuotes-Demo'\n",
    "\n",
    "mt5.login(login, password, server)"
   ]
  },
  {
   "cell_type": "code",
   "execution_count": 40,
   "metadata": {},
   "outputs": [
    {
     "data": {
      "text/plain": [
       "AccountInfo(login=88548079, trade_mode=0, leverage=100, limit_orders=200, margin_so_mode=0, trade_allowed=True, trade_expert=True, margin_mode=2, currency_digits=2, fifo_close=False, balance=10000.0, credit=0.0, profit=0.0, equity=10000.0, margin=0.0, margin_free=10000.0, margin_level=0.0, margin_so_call=50.0, margin_so_so=30.0, margin_initial=0.0, margin_maintenance=0.0, assets=0.0, liabilities=0.0, commission_blocked=0.0, name='Dananjaya Kalhara', server='MetaQuotes-Demo', currency='USD', company='MetaQuotes Ltd.')"
      ]
     },
     "execution_count": 40,
     "metadata": {},
     "output_type": "execute_result"
    }
   ],
   "source": [
    "mt5.account_info()"
   ]
  },
  {
   "cell_type": "code",
   "execution_count": 41,
   "metadata": {},
   "outputs": [
    {
     "data": {
      "text/plain": [
       "'Gold vs US Dollar'"
      ]
     },
     "execution_count": 41,
     "metadata": {},
     "output_type": "execute_result"
    }
   ],
   "source": [
    "symbol = mt5.symbol_info(\"XAUUSD\")\n",
    "symbol.description"
   ]
  },
  {
   "cell_type": "code",
   "execution_count": 42,
   "metadata": {},
   "outputs": [],
   "source": [
    "def market_order(symbol, volume, order_type, deviation=20, magic=15, stoploss=0.0, strategy_name='Trading Bot'):\n",
    "    order_type_dict = {\n",
    "        'buy': mt5.ORDER_TYPE_BUY,\n",
    "        'sell': mt5.ORDER_TYPE_SELL\n",
    "    }\n",
    "\n",
    "    price_dict = {\n",
    "        'buy': mt5.symbol_info_tick(symbol).ask,\n",
    "        'sell': mt5.symbol_info_tick(symbol).bid\n",
    "    }\n",
    "\n",
    "    request = {\n",
    "        \"action\": mt5.TRADE_ACTION_DEAL,\n",
    "        \"symbol\": symbol,\n",
    "        \"volume\": volume,  # FLOAT\n",
    "        \"type\": order_type_dict[order_type],\n",
    "        \"price\": price_dict[order_type],\n",
    "        \"sl\": stoploss,  # FLOAT\n",
    "        \"tp\": 0.0,  # FLOAT\n",
    "        \"deviation\": deviation,  # INTERGER\n",
    "        \"magic\": magic,  # INTERGER\n",
    "        \"comment\": strategy_name,\n",
    "        \"type_time\": mt5.ORDER_TIME_GTC,\n",
    "        \"type_filling\": mt5.ORDER_FILLING_IOC,\n",
    "    }\n",
    "\n",
    "    order_result = mt5.order_send(request)\n",
    "    return (order_result)\n",
    "\n",
    "\n",
    "def close_position(position, deviation=20, magic=15, strategy_name='Trading Bot'):\n",
    "    order_type_dict = {\n",
    "        0: mt5.ORDER_TYPE_SELL,\n",
    "        1: mt5.ORDER_TYPE_BUY\n",
    "    }\n",
    "\n",
    "    price_dict = {\n",
    "        0: mt5.symbol_info_tick(position['symbol']).bid,\n",
    "        1: mt5.symbol_info_tick(position['symbol']).ask\n",
    "    }\n",
    "\n",
    "    request = {\n",
    "        \"action\": mt5.TRADE_ACTION_DEAL,\n",
    "        \"position\": position['ticket'],  # select the position you want to close\n",
    "        \"symbol\": position['symbol'],\n",
    "        \"volume\": position['volume'],  # FLOAT\n",
    "        \"type\": order_type_dict[position['type']],\n",
    "        \"price\": price_dict[position['type']],\n",
    "        \"deviation\": deviation,  # INTERGER\n",
    "        \"magic\": magic,  # INTERGER\n",
    "        \"comment\": strategy_name,\n",
    "        \"type_time\": mt5.ORDER_TIME_GTC,\n",
    "        \"type_filling\": mt5.ORDER_FILLING_IOC,\n",
    "    }\n",
    "\n",
    "    order_result = mt5.order_send(request)\n",
    "    return (order_result)\n",
    "\n",
    "\n",
    "def close_all_positions(order_type, magic=15):\n",
    "    order_type_dict = {\n",
    "        'buy': 0,\n",
    "        'sell': 1\n",
    "    }\n",
    "\n",
    "    if mt5.positions_total() > 0:\n",
    "        positions = mt5.positions_get()\n",
    "\n",
    "        positions_df = pd.DataFrame(positions, columns=positions[0]._asdict().keys())\n",
    "        positions_df = positions_df[positions_df['magic'] == magic]\n",
    "\n",
    "        if order_type != 'all':\n",
    "            positions_df = positions_df[(positions_df['type'] == order_type_dict[order_type])]\n",
    "\n",
    "        for i, position in positions_df.iterrows():\n",
    "            order_result = close_position(position)\n",
    "\n",
    "            print('order_result: ', order_result)\n",
    "\n"
   ]
  },
  {
   "cell_type": "code",
   "execution_count": 47,
   "metadata": {},
   "outputs": [
    {
     "data": {
      "text/plain": [
       "OrderSendResult(retcode=10009, deal=3072790821, order=3112059062, volume=0.01, price=2645.38, bid=2645.23, ask=2645.38, comment='Request executed', request_id=2211919257, retcode_external=0, request=TradeRequest(action=1, magic=15, order=0, symbol='XAUUSD', volume=0.01, price=2645.38, stoplimit=0.0, sl=0.0, tp=0.0, deviation=20, type=0, type_filling=1, type_time=0, expiration=0, comment='Trading Bot', position=0, position_by=0))"
      ]
     },
     "execution_count": 47,
     "metadata": {},
     "output_type": "execute_result"
    }
   ],
   "source": [
    "market_order(symbol.name,0.01,'buy')"
   ]
  },
  {
   "cell_type": "code",
   "execution_count": null,
   "metadata": {},
   "outputs": [],
   "source": [
    "OrdersBuyPrices = []\n",
    "OrdersSellPrices = []\n",
    "GridSize = 1.0\n",
    "Volume = 0.01\n",
    "\n",
    "nextSellOrderTrigerPrice = 0.00\n",
    "nextBuyOrderTrigerPrice = 0.00\n",
    "\n",
    "lastOrderPrice = symbol.ask\n",
    "nextBuyOrderTrigerPrice = symbol.ask\n",
    "while True:\n",
    " \n",
    "    if symbol.ask >= nextBuyOrderTrigerPrice:\n",
    "        market_order(symbol.name,Volume,'buy')\n",
    "        lastOrderPrice = nextBuyOrderTrigerPrice\n",
    "        if nextBuyOrderTrigerPrice not in OrdersBuyPrices:\n",
    "            OrdersBuyPrices.append(nextBuyOrderTrigerPrice)\n",
    "        i = 0\n",
    "        while True:\n",
    "            nextBuyOrderTrigerPrice = lastOrderPrice + GridSize * i\n",
    "            if nextBuyOrderTrigerPrice in OrdersBuyPrices:\n",
    "                i = i + 1\n",
    "            else:\n",
    "                break   \n",
    "\n",
    "    if symbol.ask <= nextSellOrderTrigerPrice:\n",
    "        market_order(symbol.name,Volume,'sell')\n",
    "        lastOrderPrice = nextSellOrderTrigerPrice\n",
    "        if nextSellOrderTrigerPrice not in OrdersSellPrices:\n",
    "            OrdersSellPrices.append(nextSellOrderTrigerPrice)\n",
    "        i = 0\n",
    "        while True:\n",
    "            nextSellOrderTrigerPrice = lastOrderPrice + GridSize * i\n",
    "            if nextSellOrderTrigerPrice in OrdersSellPrices:\n",
    "                i = i + 1\n",
    "            else:\n",
    "                break           \n",
    "    \n",
    "    print(f'\\rNext Buy: {nextBuyOrderTrigerPrice}\\nNext Sell: {nextSellOrderTrigerPrice}',end='')\n"
   ]
  },
  {
   "cell_type": "code",
   "execution_count": null,
   "metadata": {},
   "outputs": [],
   "source": []
  }
 ],
 "metadata": {
  "kernelspec": {
   "display_name": "Python 3",
   "language": "python",
   "name": "python3"
  },
  "language_info": {
   "codemirror_mode": {
    "name": "ipython",
    "version": 3
   },
   "file_extension": ".py",
   "mimetype": "text/x-python",
   "name": "python",
   "nbconvert_exporter": "python",
   "pygments_lexer": "ipython3",
   "version": "3.11.9"
  }
 },
 "nbformat": 4,
 "nbformat_minor": 2
}
